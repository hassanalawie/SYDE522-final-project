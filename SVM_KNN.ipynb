{
 "cells": [
  {
   "cell_type": "code",
   "execution_count": 3,
   "id": "be081443-ce7c-441b-afa9-d9c0c7387c84",
   "metadata": {},
   "outputs": [],
   "source": [
    "import pandas as pd"
   ]
  },
  {
   "cell_type": "code",
   "execution_count": 19,
   "id": "46174331-eeb9-46be-9881-1214a4f1dda5",
   "metadata": {},
   "outputs": [
    {
     "name": "stdout",
     "output_type": "stream",
     "text": [
      "There are 10 rows and 4 columns\n"
     ]
    },
    {
     "data": {
      "text/html": [
       "<div>\n",
       "<style scoped>\n",
       "    .dataframe tbody tr th:only-of-type {\n",
       "        vertical-align: middle;\n",
       "    }\n",
       "\n",
       "    .dataframe tbody tr th {\n",
       "        vertical-align: top;\n",
       "    }\n",
       "\n",
       "    .dataframe thead th {\n",
       "        text-align: right;\n",
       "    }\n",
       "</style>\n",
       "<table border=\"1\" class=\"dataframe\">\n",
       "  <thead>\n",
       "    <tr style=\"text-align: right;\">\n",
       "      <th></th>\n",
       "      <th>subject ID</th>\n",
       "      <th>age</th>\n",
       "      <th>ethnicity</th>\n",
       "      <th>gender</th>\n",
       "    </tr>\n",
       "  </thead>\n",
       "  <tbody>\n",
       "    <tr>\n",
       "      <th>0</th>\n",
       "      <td>0</td>\n",
       "      <td>25</td>\n",
       "      <td>Han Chinese</td>\n",
       "      <td>M</td>\n",
       "    </tr>\n",
       "    <tr>\n",
       "      <th>1</th>\n",
       "      <td>1</td>\n",
       "      <td>24</td>\n",
       "      <td>Han Chinese</td>\n",
       "      <td>M</td>\n",
       "    </tr>\n",
       "    <tr>\n",
       "      <th>2</th>\n",
       "      <td>2</td>\n",
       "      <td>31</td>\n",
       "      <td>English</td>\n",
       "      <td>M</td>\n",
       "    </tr>\n",
       "    <tr>\n",
       "      <th>3</th>\n",
       "      <td>3</td>\n",
       "      <td>28</td>\n",
       "      <td>Han Chinese</td>\n",
       "      <td>F</td>\n",
       "    </tr>\n",
       "    <tr>\n",
       "      <th>4</th>\n",
       "      <td>4</td>\n",
       "      <td>24</td>\n",
       "      <td>Bengali</td>\n",
       "      <td>M</td>\n",
       "    </tr>\n",
       "  </tbody>\n",
       "</table>\n",
       "</div>"
      ],
      "text/plain": [
       "   subject ID   age    ethnicity  gender\n",
       "0           0    25  Han Chinese       M\n",
       "1           1    24  Han Chinese       M\n",
       "2           2    31      English       M\n",
       "3           3    28  Han Chinese       F\n",
       "4           4    24      Bengali       M"
      ]
     },
     "execution_count": 19,
     "metadata": {},
     "output_type": "execute_result"
    }
   ],
   "source": [
    "demographic_df = pd.read_csv('./demographic_info.csv', delimiter=',')\n",
    "nRow, nCol = demographic_df.shape\n",
    "print(f'There are {nRow} rows and {nCol} columns')\n",
    "demographic_df.head()"
   ]
  },
  {
   "cell_type": "code",
   "execution_count": 21,
   "id": "fe539880-1771-465c-9115-6dc4125c9da1",
   "metadata": {},
   "outputs": [
    {
     "name": "stdout",
     "output_type": "stream",
     "text": [
      "There are 12811 rows and 15 columns\n"
     ]
    },
    {
     "data": {
      "text/html": [
       "<div>\n",
       "<style scoped>\n",
       "    .dataframe tbody tr th:only-of-type {\n",
       "        vertical-align: middle;\n",
       "    }\n",
       "\n",
       "    .dataframe tbody tr th {\n",
       "        vertical-align: top;\n",
       "    }\n",
       "\n",
       "    .dataframe thead th {\n",
       "        text-align: right;\n",
       "    }\n",
       "</style>\n",
       "<table border=\"1\" class=\"dataframe\">\n",
       "  <thead>\n",
       "    <tr style=\"text-align: right;\">\n",
       "      <th></th>\n",
       "      <th>SubjectID</th>\n",
       "      <th>VideoID</th>\n",
       "      <th>Attention</th>\n",
       "      <th>Mediation</th>\n",
       "      <th>Raw</th>\n",
       "      <th>Delta</th>\n",
       "      <th>Theta</th>\n",
       "      <th>Alpha1</th>\n",
       "      <th>Alpha2</th>\n",
       "      <th>Beta1</th>\n",
       "      <th>Beta2</th>\n",
       "      <th>Gamma1</th>\n",
       "      <th>Gamma2</th>\n",
       "      <th>predefinedlabel</th>\n",
       "      <th>user-definedlabeln</th>\n",
       "    </tr>\n",
       "  </thead>\n",
       "  <tbody>\n",
       "    <tr>\n",
       "      <th>0</th>\n",
       "      <td>0.0</td>\n",
       "      <td>0.0</td>\n",
       "      <td>56.0</td>\n",
       "      <td>43.0</td>\n",
       "      <td>278.0</td>\n",
       "      <td>301963.0</td>\n",
       "      <td>90612.0</td>\n",
       "      <td>33735.0</td>\n",
       "      <td>23991.0</td>\n",
       "      <td>27946.0</td>\n",
       "      <td>45097.0</td>\n",
       "      <td>33228.0</td>\n",
       "      <td>8293.0</td>\n",
       "      <td>0.0</td>\n",
       "      <td>0.0</td>\n",
       "    </tr>\n",
       "    <tr>\n",
       "      <th>1</th>\n",
       "      <td>0.0</td>\n",
       "      <td>0.0</td>\n",
       "      <td>40.0</td>\n",
       "      <td>35.0</td>\n",
       "      <td>-50.0</td>\n",
       "      <td>73787.0</td>\n",
       "      <td>28083.0</td>\n",
       "      <td>1439.0</td>\n",
       "      <td>2240.0</td>\n",
       "      <td>2746.0</td>\n",
       "      <td>3687.0</td>\n",
       "      <td>5293.0</td>\n",
       "      <td>2740.0</td>\n",
       "      <td>0.0</td>\n",
       "      <td>0.0</td>\n",
       "    </tr>\n",
       "    <tr>\n",
       "      <th>2</th>\n",
       "      <td>0.0</td>\n",
       "      <td>0.0</td>\n",
       "      <td>47.0</td>\n",
       "      <td>48.0</td>\n",
       "      <td>101.0</td>\n",
       "      <td>758353.0</td>\n",
       "      <td>383745.0</td>\n",
       "      <td>201999.0</td>\n",
       "      <td>62107.0</td>\n",
       "      <td>36293.0</td>\n",
       "      <td>130536.0</td>\n",
       "      <td>57243.0</td>\n",
       "      <td>25354.0</td>\n",
       "      <td>0.0</td>\n",
       "      <td>0.0</td>\n",
       "    </tr>\n",
       "    <tr>\n",
       "      <th>3</th>\n",
       "      <td>0.0</td>\n",
       "      <td>0.0</td>\n",
       "      <td>47.0</td>\n",
       "      <td>57.0</td>\n",
       "      <td>-5.0</td>\n",
       "      <td>2012240.0</td>\n",
       "      <td>129350.0</td>\n",
       "      <td>61236.0</td>\n",
       "      <td>17084.0</td>\n",
       "      <td>11488.0</td>\n",
       "      <td>62462.0</td>\n",
       "      <td>49960.0</td>\n",
       "      <td>33932.0</td>\n",
       "      <td>0.0</td>\n",
       "      <td>0.0</td>\n",
       "    </tr>\n",
       "    <tr>\n",
       "      <th>4</th>\n",
       "      <td>0.0</td>\n",
       "      <td>0.0</td>\n",
       "      <td>44.0</td>\n",
       "      <td>53.0</td>\n",
       "      <td>-8.0</td>\n",
       "      <td>1005145.0</td>\n",
       "      <td>354328.0</td>\n",
       "      <td>37102.0</td>\n",
       "      <td>88881.0</td>\n",
       "      <td>45307.0</td>\n",
       "      <td>99603.0</td>\n",
       "      <td>44790.0</td>\n",
       "      <td>29749.0</td>\n",
       "      <td>0.0</td>\n",
       "      <td>0.0</td>\n",
       "    </tr>\n",
       "  </tbody>\n",
       "</table>\n",
       "</div>"
      ],
      "text/plain": [
       "   SubjectID  VideoID  Attention  Mediation    Raw      Delta     Theta  \\\n",
       "0        0.0      0.0       56.0       43.0  278.0   301963.0   90612.0   \n",
       "1        0.0      0.0       40.0       35.0  -50.0    73787.0   28083.0   \n",
       "2        0.0      0.0       47.0       48.0  101.0   758353.0  383745.0   \n",
       "3        0.0      0.0       47.0       57.0   -5.0  2012240.0  129350.0   \n",
       "4        0.0      0.0       44.0       53.0   -8.0  1005145.0  354328.0   \n",
       "\n",
       "     Alpha1   Alpha2    Beta1     Beta2   Gamma1   Gamma2  predefinedlabel  \\\n",
       "0   33735.0  23991.0  27946.0   45097.0  33228.0   8293.0              0.0   \n",
       "1    1439.0   2240.0   2746.0    3687.0   5293.0   2740.0              0.0   \n",
       "2  201999.0  62107.0  36293.0  130536.0  57243.0  25354.0              0.0   \n",
       "3   61236.0  17084.0  11488.0   62462.0  49960.0  33932.0              0.0   \n",
       "4   37102.0  88881.0  45307.0   99603.0  44790.0  29749.0              0.0   \n",
       "\n",
       "   user-definedlabeln  \n",
       "0                 0.0  \n",
       "1                 0.0  \n",
       "2                 0.0  \n",
       "3                 0.0  \n",
       "4                 0.0  "
      ]
     },
     "execution_count": 21,
     "metadata": {},
     "output_type": "execute_result"
    }
   ],
   "source": [
    "eeg_df = pd.read_csv('./EEG_data.csv', delimiter=',')\n",
    "nRow, nCol = eeg_df.shape\n",
    "print(f'There are {nRow} rows and {nCol} columns')\n",
    "eeg_df.head()"
   ]
  },
  {
   "cell_type": "markdown",
   "id": "c6784f1d-5647-45e2-9a8a-876ff82da50c",
   "metadata": {},
   "source": [
    "# Data Preprocessing"
   ]
  },
  {
   "cell_type": "markdown",
   "id": "0a0502cc-d254-4a60-9062-546b3e0a29f6",
   "metadata": {},
   "source": [
    "For this EEG dataset, averaging fields like **Attention**, **Mediation**, and frequency bands (e.g., *Delta, Theta, Alpha) across each video session provides a summary representation of each viewing experience. Since each video clip is split into multiple 0.5-second measurements, averaging reduces the data’s granularity and captures the overall brain activity patterns during the session, which helps simplify analysis and model training."
   ]
  },
  {
   "cell_type": "code",
   "execution_count": 29,
   "id": "8cc66d60-aa01-4344-a53a-d08545c3d908",
   "metadata": {},
   "outputs": [
    {
     "data": {
      "text/html": [
       "<div>\n",
       "<style scoped>\n",
       "    .dataframe tbody tr th:only-of-type {\n",
       "        vertical-align: middle;\n",
       "    }\n",
       "\n",
       "    .dataframe tbody tr th {\n",
       "        vertical-align: top;\n",
       "    }\n",
       "\n",
       "    .dataframe thead th {\n",
       "        text-align: right;\n",
       "    }\n",
       "</style>\n",
       "<table border=\"1\" class=\"dataframe\">\n",
       "  <thead>\n",
       "    <tr style=\"text-align: right;\">\n",
       "      <th></th>\n",
       "      <th>SubjectID</th>\n",
       "      <th>VideoID</th>\n",
       "      <th>Attention</th>\n",
       "      <th>Mediation</th>\n",
       "      <th>Raw</th>\n",
       "      <th>Delta</th>\n",
       "      <th>Theta</th>\n",
       "      <th>Alpha1</th>\n",
       "      <th>Alpha2</th>\n",
       "      <th>Beta1</th>\n",
       "      <th>Beta2</th>\n",
       "      <th>Gamma1</th>\n",
       "      <th>Gamma2</th>\n",
       "      <th>predefinedlabel</th>\n",
       "      <th>age</th>\n",
       "      <th>ethnicity</th>\n",
       "      <th>gender</th>\n",
       "    </tr>\n",
       "  </thead>\n",
       "  <tbody>\n",
       "    <tr>\n",
       "      <th>0</th>\n",
       "      <td>0.0</td>\n",
       "      <td>0.0</td>\n",
       "      <td>55.256944</td>\n",
       "      <td>53.826389</td>\n",
       "      <td>46.986111</td>\n",
       "      <td>544315.097222</td>\n",
       "      <td>124965.590278</td>\n",
       "      <td>36693.701389</td>\n",
       "      <td>25875.298611</td>\n",
       "      <td>20108.791667</td>\n",
       "      <td>40268.763889</td>\n",
       "      <td>40729.284722</td>\n",
       "      <td>16817.062500</td>\n",
       "      <td>0.0</td>\n",
       "      <td>25</td>\n",
       "      <td>Han Chinese</td>\n",
       "      <td>M</td>\n",
       "    </tr>\n",
       "    <tr>\n",
       "      <th>1</th>\n",
       "      <td>0.0</td>\n",
       "      <td>1.0</td>\n",
       "      <td>43.621429</td>\n",
       "      <td>48.621429</td>\n",
       "      <td>28.800000</td>\n",
       "      <td>739737.292857</td>\n",
       "      <td>161064.228571</td>\n",
       "      <td>34918.028571</td>\n",
       "      <td>25078.935714</td>\n",
       "      <td>22157.307143</td>\n",
       "      <td>37410.728571</td>\n",
       "      <td>36758.700000</td>\n",
       "      <td>14519.407143</td>\n",
       "      <td>0.0</td>\n",
       "      <td>25</td>\n",
       "      <td>Han Chinese</td>\n",
       "      <td>M</td>\n",
       "    </tr>\n",
       "    <tr>\n",
       "      <th>2</th>\n",
       "      <td>0.0</td>\n",
       "      <td>2.0</td>\n",
       "      <td>43.978873</td>\n",
       "      <td>47.316901</td>\n",
       "      <td>13.154930</td>\n",
       "      <td>694078.084507</td>\n",
       "      <td>149816.873239</td>\n",
       "      <td>30493.873239</td>\n",
       "      <td>21667.591549</td>\n",
       "      <td>21888.338028</td>\n",
       "      <td>36446.436620</td>\n",
       "      <td>33908.873239</td>\n",
       "      <td>14545.845070</td>\n",
       "      <td>0.0</td>\n",
       "      <td>25</td>\n",
       "      <td>Han Chinese</td>\n",
       "      <td>M</td>\n",
       "    </tr>\n",
       "    <tr>\n",
       "      <th>3</th>\n",
       "      <td>0.0</td>\n",
       "      <td>3.0</td>\n",
       "      <td>51.057377</td>\n",
       "      <td>51.844262</td>\n",
       "      <td>34.713115</td>\n",
       "      <td>600823.688525</td>\n",
       "      <td>162653.360656</td>\n",
       "      <td>33367.278689</td>\n",
       "      <td>26281.500000</td>\n",
       "      <td>17224.278689</td>\n",
       "      <td>43706.524590</td>\n",
       "      <td>41438.213115</td>\n",
       "      <td>16558.631148</td>\n",
       "      <td>0.0</td>\n",
       "      <td>25</td>\n",
       "      <td>Han Chinese</td>\n",
       "      <td>M</td>\n",
       "    </tr>\n",
       "    <tr>\n",
       "      <th>4</th>\n",
       "      <td>0.0</td>\n",
       "      <td>4.0</td>\n",
       "      <td>55.224138</td>\n",
       "      <td>47.474138</td>\n",
       "      <td>30.008621</td>\n",
       "      <td>546628.017241</td>\n",
       "      <td>126893.948276</td>\n",
       "      <td>23113.844828</td>\n",
       "      <td>17017.051724</td>\n",
       "      <td>15955.879310</td>\n",
       "      <td>36427.836207</td>\n",
       "      <td>36024.818966</td>\n",
       "      <td>14752.655172</td>\n",
       "      <td>0.0</td>\n",
       "      <td>25</td>\n",
       "      <td>Han Chinese</td>\n",
       "      <td>M</td>\n",
       "    </tr>\n",
       "  </tbody>\n",
       "</table>\n",
       "</div>"
      ],
      "text/plain": [
       "   SubjectID  VideoID  Attention  Mediation        Raw          Delta  \\\n",
       "0        0.0      0.0  55.256944  53.826389  46.986111  544315.097222   \n",
       "1        0.0      1.0  43.621429  48.621429  28.800000  739737.292857   \n",
       "2        0.0      2.0  43.978873  47.316901  13.154930  694078.084507   \n",
       "3        0.0      3.0  51.057377  51.844262  34.713115  600823.688525   \n",
       "4        0.0      4.0  55.224138  47.474138  30.008621  546628.017241   \n",
       "\n",
       "           Theta        Alpha1        Alpha2         Beta1         Beta2  \\\n",
       "0  124965.590278  36693.701389  25875.298611  20108.791667  40268.763889   \n",
       "1  161064.228571  34918.028571  25078.935714  22157.307143  37410.728571   \n",
       "2  149816.873239  30493.873239  21667.591549  21888.338028  36446.436620   \n",
       "3  162653.360656  33367.278689  26281.500000  17224.278689  43706.524590   \n",
       "4  126893.948276  23113.844828  17017.051724  15955.879310  36427.836207   \n",
       "\n",
       "         Gamma1        Gamma2  predefinedlabel  age    ethnicity gender  \n",
       "0  40729.284722  16817.062500              0.0   25  Han Chinese      M  \n",
       "1  36758.700000  14519.407143              0.0   25  Han Chinese      M  \n",
       "2  33908.873239  14545.845070              0.0   25  Han Chinese      M  \n",
       "3  41438.213115  16558.631148              0.0   25  Han Chinese      M  \n",
       "4  36024.818966  14752.655172              0.0   25  Han Chinese      M  "
      ]
     },
     "execution_count": 29,
     "metadata": {},
     "output_type": "execute_result"
    }
   ],
   "source": [
    "eeg_agg_df = eeg_df.groupby(['SubjectID', 'VideoID']).agg({\n",
    "    'Attention': 'mean',\n",
    "    'Mediation': 'mean',\n",
    "    'Raw': 'mean',\n",
    "    'Delta': 'mean',\n",
    "    'Theta': 'mean',\n",
    "    'Alpha1': 'mean',\n",
    "    'Alpha2': 'mean',\n",
    "    'Beta1': 'mean',\n",
    "    'Beta2': 'mean',\n",
    "    'Gamma1': 'mean',\n",
    "    'Gamma2': 'mean',\n",
    "    'predefinedlabel': 'first'  # Assuming label is the same across rows for each video\n",
    "}).reset_index()\n",
    "\n",
    "demographic_df.rename(columns={'subject ID': 'SubjectID'}, inplace=True)\n",
    "merged_df = pd.merge(eeg_agg_df, demographic_df, on='SubjectID', how='left')\n",
    "merged_df.columns = merged_df.columns.str.strip()\n",
    "\n",
    "merged_df.head()"
   ]
  },
  {
   "cell_type": "markdown",
   "id": "9532ab59-f289-4048-8ee2-24a7ae675210",
   "metadata": {},
   "source": [
    "## Encoding Categorical Data and Sclaing Numerical Data\n",
    "Encoding categorical data, like ethnicity and gender, is necessary because machine learning models require numerical input; encoding transforms these features into a format that models can interpret, allowing them to consider demographic factors in predicting outcomes."
   ]
  },
  {
   "cell_type": "code",
   "execution_count": 43,
   "id": "75d5a3e8-27fe-495d-9210-1e3c7bb77cad",
   "metadata": {},
   "outputs": [
    {
     "data": {
      "text/plain": [
       "array([ 0.80326442,  0.37230938, -0.19038102, -0.22236902, -0.48953219,\n",
       "       -0.19856462, -0.31169392, -0.27800568,  0.04919098,  0.23724919,\n",
       "        0.1216108 , -0.18181818,  0.        ,  0.        ,  1.        ,\n",
       "        0.        ,  1.        ])"
      ]
     },
     "execution_count": 43,
     "metadata": {},
     "output_type": "execute_result"
    }
   ],
   "source": [
    "from sklearn.preprocessing import StandardScaler, OneHotEncoder\n",
    "from sklearn.compose import ColumnTransformer\n",
    "\n",
    "numerical_features = ['Attention', 'Mediation', 'Raw', 'Delta', 'Theta', 'Alpha1', 'Alpha2', 'Beta1', 'Beta2', 'Gamma1', 'Gamma2', 'age']\n",
    "categorical_features = ['ethnicity', 'gender']\n",
    "\n",
    "preprocessor = ColumnTransformer(\n",
    "    transformers=[\n",
    "        ('num', StandardScaler(), numerical_features),\n",
    "        ('cat', OneHotEncoder(), categorical_features)\n",
    "    ])\n",
    "X_preprocessed = preprocessor.fit_transform(merged_df.drop(columns=['predefinedlabel']))\n",
    "X_preprocessed[0]"
   ]
  },
  {
   "cell_type": "markdown",
   "id": "ca9c624f-a030-4a9d-8745-56f03df99945",
   "metadata": {},
   "source": [
    "# Splitting the data"
   ]
  },
  {
   "cell_type": "code",
   "execution_count": 45,
   "id": "8a5fdd59-eac6-46bf-bafb-f90fce8236cf",
   "metadata": {},
   "outputs": [
    {
     "data": {
      "text/plain": [
       "((80, 17), (20, 17), (80,), (20,))"
      ]
     },
     "execution_count": 45,
     "metadata": {},
     "output_type": "execute_result"
    }
   ],
   "source": [
    "from sklearn.model_selection import train_test_split\n",
    "\n",
    "y = merged_df['predefinedlabel']\n",
    "\n",
    "X_train, X_test, y_train, y_test = train_test_split(X_preprocessed, y, test_size=0.2, random_state=42, stratify=y)\n",
    "\n",
    "X_train.shape, X_test.shape, y_train.shape, y_test.shape"
   ]
  },
  {
   "cell_type": "markdown",
   "id": "da812c92-d7fd-4e05-becd-6175db367567",
   "metadata": {},
   "source": [
    "# SVM Model"
   ]
  },
  {
   "cell_type": "code",
   "execution_count": 50,
   "id": "53b6c89b-c80f-4429-bad7-6c84c7dcfd45",
   "metadata": {},
   "outputs": [
    {
     "data": {
      "text/plain": [
       "0.25"
      ]
     },
     "execution_count": 50,
     "metadata": {},
     "output_type": "execute_result"
    }
   ],
   "source": [
    "from sklearn.svm import SVC\n",
    "from sklearn.metrics import accuracy_score\n",
    "\n",
    "svm_model = SVC(kernel='linear', random_state=42)\n",
    "\n",
    "svm_model.fit(X_train, y_train)\n",
    "\n",
    "y_pred = svm_model.predict(X_test)\n",
    "\n",
    "accuracy = accuracy_score(y_test, y_pred)\n",
    "\n",
    "accuracy"
   ]
  },
  {
   "cell_type": "markdown",
   "id": "d4b5c66a-44bc-4fd6-9043-d90b66826900",
   "metadata": {},
   "source": [
    "Ok that's pretty bad, lets try tuning some hyperparameters. This may take a while to I am implementing a loading bar so I don't lose my mind :p"
   ]
  },
  {
   "cell_type": "code",
   "execution_count": 68,
   "id": "1afa1d08-d955-47a5-8c69-2307590d451a",
   "metadata": {},
   "outputs": [
    {
     "name": "stdout",
     "output_type": "stream",
     "text": [
      "Requirement already satisfied: tqdm in /opt/anaconda3/lib/python3.12/site-packages (4.66.4)\n"
     ]
    }
   ],
   "source": [
    "!pip install tqdm"
   ]
  },
  {
   "cell_type": "code",
   "execution_count": 72,
   "id": "1648d556-5d07-433a-a3d3-d22000c80e3f",
   "metadata": {},
   "outputs": [
    {
     "name": "stderr",
     "output_type": "stream",
     "text": [
      "Grid Search Progress: 100%|█████████████████| 1600/1600 [01:24<00:00, 18.90it/s]"
     ]
    },
    {
     "name": "stdout",
     "output_type": "stream",
     "text": [
      "Best Parameters: {'C': 61.584821106602604, 'gamma': 0.14384498882876628, 'kernel': 'rbf'}\n",
      "Best Cross-Validation Score: 0.6\n"
     ]
    },
    {
     "name": "stderr",
     "output_type": "stream",
     "text": [
      "\n"
     ]
    }
   ],
   "source": [
    "from sklearn.model_selection import GridSearchCV\n",
    "import numpy as np\n",
    "from tqdm import tqdm\n",
    "from sklearn.model_selection import ParameterGrid, cross_val_score\n",
    "\n",
    "param_grid = {\n",
    "    'C': np.logspace(-2, 4, 20),\n",
    "    'kernel': ['linear', 'rbf', 'poly', 'sigmoid'],\n",
    "    'gamma': np.logspace(-4, 2, 20)\n",
    "}\n",
    "param_combinations = list(ParameterGrid(param_grid))\n",
    "\n",
    "\n",
    "best_score = 0\n",
    "best_params = None\n",
    "\n",
    "\n",
    "for params in tqdm(param_combinations, desc=\"Grid Search Progress\"):\n",
    "\n",
    "    model = SVC(**params, random_state=42)\n",
    "    \n",
    "\n",
    "    scores = cross_val_score(model, X_train, y_train, cv=5, scoring='accuracy')\n",
    "    mean_score = scores.mean()\n",
    "    \n",
    "\n",
    "    if mean_score > best_score:\n",
    "        best_score = mean_score\n",
    "        best_params = params\n",
    "\n",
    "print(\"Best Parameters:\", best_params)\n",
    "print(\"Best Cross-Validation Score:\", best_score)"
   ]
  },
  {
   "cell_type": "markdown",
   "id": "3bd8f5ce-5a5a-4c58-8069-4935f99e7962",
   "metadata": {},
   "source": [
    "Accuracy of ~60%, almost matching the results of the study. I am happy with this result."
   ]
  },
  {
   "cell_type": "markdown",
   "id": "5e20b070-d280-482a-8733-4300465bc65f",
   "metadata": {},
   "source": [
    "# KNN Attempt 1"
   ]
  },
  {
   "cell_type": "code",
   "execution_count": 76,
   "id": "341f3582-1c9a-47b8-9736-14431453642e",
   "metadata": {},
   "outputs": [
    {
     "data": {
      "text/plain": [
       "0.35"
      ]
     },
     "execution_count": 76,
     "metadata": {},
     "output_type": "execute_result"
    }
   ],
   "source": [
    "from sklearn.neighbors import KNeighborsClassifier\n",
    "knn_model = KNeighborsClassifier(n_neighbors=5)\n",
    "knn_model.fit(X_train, y_train)\n",
    "\n",
    "y_pred = knn_model.predict(X_test)\n",
    "accuracy = accuracy_score(y_test, y_pred)\n",
    "\n",
    "accuracy"
   ]
  },
  {
   "cell_type": "markdown",
   "id": "facab482-00c4-4f71-aad7-8095da9fc04b",
   "metadata": {},
   "source": [
    "Not great, but surprisingly not actually that bad. Lets evaluate the accuracy amongst a range of Ks"
   ]
  },
  {
   "cell_type": "code",
   "execution_count": 95,
   "id": "01b41065-519b-4286-a09d-355fafa8fb0c",
   "metadata": {},
   "outputs": [
    {
     "data": {
      "image/png": "[encoded data removed]",
      "text/plain": [
       "<Figure size 1000x600 with 1 Axes>"
      ]
     },
     "metadata": {},
     "output_type": "display_data"
    }
   ],
   "source": [
    "import matplotlib.pyplot as plt\n",
    "\n",
    "# Range of k values to test\n",
    "k_values = range(1, 21)\n",
    "\n",
    "# Store accuracy scores for each k\n",
    "accuracy_scores = []\n",
    "\n",
    "# Loop over the range of k values\n",
    "for k in k_values:\n",
    "    knn_model = KNeighborsClassifier(n_neighbors=k)\n",
    "    knn_model.fit(X_train, y_train)\n",
    "    y_pred = knn_model.predict(X_test)\n",
    "    accuracy_scores.append(accuracy_score(y_test, y_pred))\n",
    "\n",
    "# Plot accuracy vs. k value\n",
    "plt.figure(figsize=(10, 6))\n",
    "plt.plot(k_values, accuracy_scores, marker='o')\n",
    "plt.title(\"Accuracy vs. K Value for KNN\")\n",
    "plt.xlabel(\"K Value\")\n",
    "plt.ylabel(\"Accuracy\")\n",
    "plt.xticks(k_values)\n",
    "plt.grid(True)\n",
    "plt.show()"
   ]
  },
  {
   "cell_type": "markdown",
   "id": "e6757ea1-b83b-4b07-8da4-ba9c9bdc645e",
   "metadata": {},
   "source": [
    "Hilarious that the K value I initially guessed (5) ended being far and beyond the worst example."
   ]
  },
  {
   "cell_type": "code",
   "execution_count": 97,
   "id": "27c2bfbe-9944-45e3-a28c-908832d35e72",
   "metadata": {},
   "outputs": [
    {
     "name": "stdout",
     "output_type": "stream",
     "text": [
      "Optimal K: 7 \n",
      "Optimal Accuracy: 60.0%\n"
     ]
    }
   ],
   "source": [
    "optimal_k = k_values[accuracy_scores.index(max(accuracy_scores))]\n",
    "optimal_accuracy = max(accuracy_scores)\n",
    "\n",
    "print(f\"Optimal K: {optimal_k} \\nOptimal Accuracy: {optimal_accuracy*100}%\")"
   ]
  },
  {
   "cell_type": "markdown",
   "id": "01bf280c-e411-482f-b19b-94066a6354e0",
   "metadata": {},
   "source": [
    "Not gonna lie, this is pretty OK :')"
   ]
  }
 ],
 "metadata": {
  "kernelspec": {
   "display_name": "Python 3 (ipykernel)",
   "language": "python",
   "name": "python3"
  },
  "language_info": {
   "codemirror_mode": {
    "name": "ipython",
    "version": 3
   },
   "file_extension": ".py",
   "mimetype": "text/x-python",
   "name": "python",
   "nbconvert_exporter": "python",
   "pygments_lexer": "ipython3",
   "version": "3.12.4"
  }
 },
 "nbformat": 4,
 "nbformat_minor": 5
}
